{
 "cells": [
  {
   "cell_type": "raw",
   "metadata": {},
   "source": [
    "<script>\n",
    "  function code_toggle() {\n",
    "    if (code_shown){\n",
    "      $('div.input').hide('500');\n",
    "      $('#toggleButton').val('Show Code')\n",
    "    } else {\n",
    "      $('div.input').show('500');\n",
    "      $('#toggleButton').val('Hide Code')\n",
    "    }\n",
    "    code_shown = !code_shown\n",
    "  }\n",
    "\n",
    "  $( document ).ready(function(){\n",
    "    code_shown=false;\n",
    "    $('div.input').hide()\n",
    "  });\n",
    "</script>\n",
    "<form action=\"javascript:code_toggle()\"><input type=\"submit\" id=\"toggleButton\" value=\"Show Code\"></form>"
   ]
  },
  {
   "cell_type": "code",
   "execution_count": 1,
   "metadata": {
    "collapsed": true
   },
   "outputs": [],
   "source": [
    "import sql_tools \n",
    "import pypyodbc\n",
    "import pandas as pd\n",
    "import numpy as np\n",
    "import ryan_tools as rt\n",
    "import seaborn as sea\n",
    "import sqlite3\n",
    "from datetime import datetime, timedelta\n",
    "from IPython.display import display,Markdown, HTML\n",
    "from matplotlib import pyplot as plt\n",
    "phi = (1 + np.sqrt(5))/2\n",
    "\n",
    "fire = sql_tools.IcePick(sqlite3, 'fire.db')\n",
    "\n",
    "def printmd(text):\n",
    "    if type(text) == pd.DataFrame:\n",
    "        display(HTML(text.to_html()))\n",
    "        return\n",
    "    display(Markdown(text))"
   ]
  },
  {
   "cell_type": "code",
   "execution_count": 2,
   "metadata": {
    "collapsed": true
   },
   "outputs": [],
   "source": [
    "data =fire.get_data(\"ETH-USD\")\n",
    "data.set_index('trade_id', inplace = True)\n",
    "data['time'] = pd.to_datetime(data['time'])"
   ]
  },
  {
   "cell_type": "code",
   "execution_count": 17,
   "metadata": {},
   "outputs": [],
   "source": [
    "def to_candles(data):\n",
    "    \n",
    "    data['minutes'] =  (pd.to_datetime(data['time'].dt.strftime('%Y-%m-%d %H:%M')))\n",
    "    candles = pd.DataFrame(index = set(data['minutes']))\n",
    "    grouped = data.groupby('minutes')\n",
    "    candles['low'] = grouped['price'].min()\n",
    "    candles['high'] = grouped['price'].max()\n",
    "    candles['sell_volume'] = data.groupby(['minutes', 'side'])['last_size'].sum().swaplevel()['sell']\n",
    "    candles['buy_volume'] = data.groupby(['minutes', 'side'])['last_size'].sum().swaplevel()['buy']\n",
    "    return candles\n",
    "\n",
    "x = to_candles(data.copy())"
   ]
  }
 ],
 "metadata": {
  "kernelspec": {
   "display_name": "Python 3",
   "language": "python",
   "name": "python3"
  },
  "language_info": {
   "codemirror_mode": {
    "name": "ipython",
    "version": 3
   },
   "file_extension": ".py",
   "mimetype": "text/x-python",
   "name": "python",
   "nbconvert_exporter": "python",
   "pygments_lexer": "ipython3",
   "version": "3.6.3"
  }
 },
 "nbformat": 4,
 "nbformat_minor": 2
}
