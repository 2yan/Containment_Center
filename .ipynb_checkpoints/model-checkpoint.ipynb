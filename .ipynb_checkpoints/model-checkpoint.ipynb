{
 "cells": [
  {
   "cell_type": "raw",
   "metadata": {},
   "source": [
    "<script>\n",
    "  function code_toggle() {\n",
    "    if (code_shown){\n",
    "      $('div.input').hide('500');\n",
    "      $('#toggleButton').val('Show Code')\n",
    "    } else {\n",
    "      $('div.input').show('500');\n",
    "      $('#toggleButton').val('Hide Code')\n",
    "    }\n",
    "    code_shown = !code_shown\n",
    "  }\n",
    "\n",
    "  $( document ).ready(function(){\n",
    "    code_shown=false;\n",
    "    $('div.input').hide()\n",
    "  });\n",
    "</script>\n",
    "<form action=\"javascript:code_toggle()\"><input type=\"submit\" id=\"toggleButton\" value=\"Show Code\"></form>"
   ]
  },
  {
   "cell_type": "code",
   "execution_count": 190,
   "metadata": {
    "collapsed": true
   },
   "outputs": [],
   "source": [
    "import sql_tools \n",
    "import pypyodbc\n",
    "import pandas as pd\n",
    "import numpy as np\n",
    "import ryan_tools as rt\n",
    "import seaborn as sea\n",
    "import sqlite3\n",
    "from datetime import datetime, timedelta\n",
    "from IPython.display import display,Markdown, HTML\n",
    "from matplotlib import pyplot as plt\n",
    "phi = (1 + np.sqrt(5))/2\n",
    "\n",
    "fire = sql_tools.IcePick(sqlite3, 'fire.db')\n",
    "\n",
    "def printmd(text):\n",
    "    if type(text) == pd.DataFrame:\n",
    "        display(HTML(text.to_html()))\n",
    "        return\n",
    "    display(Markdown(text))"
   ]
  },
  {
   "cell_type": "code",
   "execution_count": 314,
   "metadata": {
    "collapsed": true
   },
   "outputs": [],
   "source": [
    "data =fire.get_data(\"ETH-USD\")\n",
    "data.set_index('trade_id', inplace = True)\n",
    "data['time'] = pd.to_datetime(data['time'])"
   ]
  },
  {
   "cell_type": "code",
   "execution_count": 332,
   "metadata": {},
   "outputs": [
    {
     "data": {
      "image/png": "[encoded data removed]",
      "text/plain": [
       "<matplotlib.figure.Figure at 0xdfbbc50>"
      ]
     },
     "metadata": {},
     "output_type": "display_data"
    }
   ],
   "source": [
    "data.groupby('price')[['dollars']].sum().plot()\n",
    "plt.show()"
   ]
  },
  {
   "cell_type": "code",
   "execution_count": 321,
   "metadata": {},
   "outputs": [
    {
     "data": {
      "text/plain": [
       "trade_id\n",
       "22845245    0.001099\n",
       "22845246    0.001075\n",
       "22845247    0.034995\n",
       "22845248    0.008886\n",
       "22845249    0.000006\n",
       "22845250    0.024980\n",
       "22845251    0.000196\n",
       "22845252    0.020997\n",
       "22845253    0.000006\n",
       "22845254    0.026342\n",
       "22845256    0.013723\n",
       "22845257    0.026939\n",
       "22845259    0.000280\n",
       "22845260    0.070091\n",
       "22845265    0.003781\n",
       "22845266    0.000943\n",
       "22845268    0.012777\n",
       "22845269    0.000004\n",
       "22845270    0.000112\n",
       "22845271    0.000112\n",
       "22845272    0.002422\n",
       "22845273    0.013720\n",
       "22845274    0.022103\n",
       "22845275    0.000195\n",
       "22845276    0.001315\n",
       "22845277    0.000269\n",
       "22845278    0.000713\n",
       "22845279    0.000993\n",
       "22845280    0.000287\n",
       "22845281    0.000106\n",
       "              ...   \n",
       "23069858    0.000016\n",
       "23069862    0.000140\n",
       "23069874    0.002082\n",
       "23069875    0.007727\n",
       "23069909    0.013982\n",
       "23069928    0.005660\n",
       "23069929    0.013011\n",
       "23069932    0.000023\n",
       "23069939    0.000002\n",
       "23069941    0.005523\n",
       "23069964    0.000082\n",
       "23069966    0.000229\n",
       "23069975    0.000518\n",
       "23069979    0.000221\n",
       "23069982    0.001302\n",
       "23069983    0.002202\n",
       "23069987    0.000773\n",
       "23069991    0.004107\n",
       "23069998    0.000023\n",
       "23070000    0.006065\n",
       "23070001    0.001124\n",
       "23070002    0.008923\n",
       "23070003    0.000041\n",
       "23070010    0.002498\n",
       "23070011    0.002422\n",
       "23070012    0.002343\n",
       "23070014    0.000333\n",
       "23070017    0.000130\n",
       "23070018    0.000340\n",
       "23070021    0.000671\n",
       "Name: dollars, Length: 82997, dtype: float64"
      ]
     },
     "execution_count": 321,
     "metadata": {},
     "output_type": "execute_result"
    }
   ],
   "source": [
    "data['dollars'] = data['price'] * data['last_size']\n",
    "data['dollars'] / data['last_size'].sum()"
   ]
  },
  {
   "cell_type": "code",
   "execution_count": 232,
   "metadata": {},
   "outputs": [],
   "source": [
    "def to_candles(data):\n",
    "    \n",
    "    data['minutes'] =  (pd.to_datetime(data['time'].dt.strftime('%Y-%m-%d %H:%M')))\n",
    "    candles = pd.DataFrame(index = set(data['minutes']))\n",
    "    grouped = data.groupby('minutes')\n",
    "    candles['low'] = grouped['price'].min()\n",
    "    candles['high'] = grouped['price'].max()\n",
    "    candles['25'] = grouped['price'].quantile(0.25)\n",
    "    candles['75'] = grouped['price'].quantile(0.75)\n",
    "    candles['median'] = grouped['price'].median()\n",
    "    grouped = data.groupby(['minutes', 'side'])\n",
    "    \n",
    "    candles['sell_volume'] = grouped['last_size'].sum().swaplevel()['sell']\n",
    "    candles['buy_volume'] = grouped['last_size'].sum().swaplevel()['buy']\n",
    "    \n",
    "    candles['sell_mean'] = grouped['price'].mean().swaplevel()['sell']\n",
    "    candles['buy_mean'] = grouped['price'].mean().swaplevel()['buy']\n",
    "    \n",
    "    candles['open'] = data.loc[data.groupby('minutes')['time'].transform(lambda x: x.idxmin())].groupby('minutes')['price'].mean()\n",
    "    candles['close'] = data.loc[data.groupby('minutes')['time'].transform(lambda x: x.idxmax())].groupby('minutes')['price'].mean()\n",
    "    candles = candles.sort_index()\n",
    "    return candles\n",
    "\n",
    "x = to_candles(data.copy())"
   ]
  },
  {
   "cell_type": "code",
   "execution_count": 279,
   "metadata": {},
   "outputs": [],
   "source": [
    "import matplotlib.patches as patches\n",
    "\n",
    "def add_rect(x1, y1, width, height, filled, ax):\n",
    "    ax.add_patch(\n",
    "        patches.Rectangle(\n",
    "            (x1, y1),   # (x,y)\n",
    "            width,          # width\n",
    "            height,          # height\n",
    "            fill = filled\n",
    "            ))\n",
    "\n",
    "def chart(candles_in, ax):\n",
    "    candles = candles_in.copy()\n",
    "    candles = candles.reset_index()\n",
    "    \n",
    "    #plt.plot(candles[['sell_mean', 'buy_mean']])\n",
    "    for index in candles.index:\n",
    "        row = candles.loc[index]\n",
    "        add_rect(index, row['25'], 0.98, row['75'] - row['25'], row['open'] > row['close'] , ax)\n",
    "        ax.plot([index + 0.5, index + 0.5], [row['low'],row['high']], color = 'grey')\n",
    "    plt.plot(candles.index + 0.2, candles['open'], '>')\n",
    "    plt.plot(candles.index + 0.8, candles['close'], '<')"
   ]
  },
  {
   "cell_type": "code",
   "execution_count": 289,
   "metadata": {
    "scrolled": false
   },
   "outputs": [
    {
     "data": {
      "image/png": "[encoded data removed]",
      "text/plain": [
       "<matplotlib.figure.Figure at 0xdf947f0>"
      ]
     },
     "metadata": {},
     "output_type": "display_data"
    }
   ],
   "source": [
    "fig, ax = plt.subplots()\n",
    "fig.set_size_inches(phi * 13, 13)\n",
    "chart(x[-340:-300],ax)\n",
    "\n",
    "\n",
    "plt.show()"
   ]
  }
 ],
 "metadata": {
  "kernelspec": {
   "display_name": "Python 3",
   "language": "python",
   "name": "python3"
  },
  "language_info": {
   "codemirror_mode": {
    "name": "ipython",
    "version": 3
   },
   "file_extension": ".py",
   "mimetype": "text/x-python",
   "name": "python",
   "nbconvert_exporter": "python",
   "pygments_lexer": "ipython3",
   "version": "3.6.3"
  }
 },
 "nbformat": 4,
 "nbformat_minor": 2
}
